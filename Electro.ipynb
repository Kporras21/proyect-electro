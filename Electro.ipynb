{
 "cells": [
  {
   "cell_type": "markdown",
   "id": "58c7d35f",
   "metadata": {},
   "source": [
    "# PENE\n"
   ]
  },
  {
   "cell_type": "code",
   "execution_count": 2,
   "id": "18fef493",
   "metadata": {},
   "outputs": [
    {
     "name": "stdout",
     "output_type": "stream",
     "text": [
      "Kevin gay\n"
     ]
    }
   ],
   "source": [
    "print('Kevin gay')"
   ]
  },
  {
   "cell_type": "markdown",
   "id": "5b6cf090",
   "metadata": {},
   "source": [
    "DYLAN CACA PEDO CULO PIS"
   ]
  }
 ],
 "metadata": {
  "language_info": {
   "name": "python"
  }
 },
 "nbformat": 4,
 "nbformat_minor": 5
}
