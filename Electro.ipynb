{
 "cells": [
  {
   "cell_type": "markdown",
   "id": "58c7d35f",
   "metadata": {},
   "source": [
    "# PENE\n"
   ]
  },
  {
   "cell_type": "markdown",
   "id": "5b6cf090",
   "metadata": {},
   "source": [
    "HOLA CHICOS DE YOUTUBE"
   ]
  },
  {
   "cell_type": "markdown",
   "id": "12ed9d70",
   "metadata": {},
   "source": []
  }
 ],
 "metadata": {
  "language_info": {
   "name": "python"
  }
 },
 "nbformat": 4,
 "nbformat_minor": 5
}
