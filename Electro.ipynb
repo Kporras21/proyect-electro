{
 "cells": [
  {
   "cell_type": "markdown",
   "id": "58c7d35f",
   "metadata": {},
   "source": [
    "# PENE\n"
   ]
  },
  {
   "cell_type": "markdown",
   "id": "5b6cf090",
   "metadata": {},
   "source": [
    "HOLA\n"
   ]
  },
  {
   "cell_type": "code",
   "execution_count": null,
   "id": "db2e1f86",
   "metadata": {},
   "outputs": [],
   "source": []
  }
 ],
 "metadata": {
  "language_info": {
   "name": "python"
  }
 },
 "nbformat": 4,
 "nbformat_minor": 5
}
