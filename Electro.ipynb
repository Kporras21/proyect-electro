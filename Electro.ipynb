{
 "cells": [
  {
   "cell_type": "markdown",
   "id": "58c7d35f",
   "metadata": {},
   "source": [
    "# PENE\n"
   ]
  },
  {
   "cell_type": "markdown",
   "id": "5b6cf090",
   "metadata": {},
   "source": [
    "HOLA CHICOS DE YOUTUBE"
   ]
  },
  {
   "cell_type": "code",
   "execution_count": 1,
   "id": "12ed9d70",
   "metadata": {},
   "outputs": [
    {
     "name": "stdout",
     "output_type": "stream",
     "text": [
      "Hola\n"
     ]
    }
   ],
   "source": [
    "print('Hola')"
   ]
  },
  {
   "cell_type": "markdown",
   "id": "3de2bf62",
   "metadata": {},
   "source": []
  }
 ],
 "metadata": {
  "kernelspec": {
   "display_name": "Python 3",
   "language": "python",
   "name": "python3"
  },
  "language_info": {
   "codemirror_mode": {
    "name": "ipython",
    "version": 3
   },
   "file_extension": ".py",
   "mimetype": "text/x-python",
   "name": "python",
   "nbconvert_exporter": "python",
   "pygments_lexer": "ipython3",
   "version": "3.12.4"
  }
 },
 "nbformat": 4,
 "nbformat_minor": 5
}
